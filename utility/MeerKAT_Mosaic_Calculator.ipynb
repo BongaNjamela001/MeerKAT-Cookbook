{
 "cells": [
  {
   "cell_type": "code",
   "execution_count": null,
   "metadata": {},
   "outputs": [],
   "source": [
    "import MeerKAT_Mosaic_Calculator_base as msc"
   ]
  },
  {
   "cell_type": "markdown",
   "metadata": {},
   "source": [
    "# MeerKAT Mosaic Calculator\n",
    "Use the cell below to create a cube representing the weights or the sensitivity of a mosaic (in dependence of frequency, hence three dimensions). Notice that at this stage the single rms is either entered by hand or the HI line sensitivity can be calculated providing some parameters, but it is not considered to vary with frequency (only across the primary beam).\n",
    "\n",
    "The peak rms for a single primary beam is entered with the parameter ``rmssingle`` (in Jy). If the parameter ``rmssingle`` is entered as the string \"calculate\", the script calculates the rms from the parameters ``t_int`` (integration time in hours), ``Nant`` (number of antennas), ``HI_velocity_width`` (HI velocity window over which to calculate the sensitivity) in km/s, ``obs_freq`` (observation frequency in Hz), ``f_tap`` (the weighting factor or penalty, a simple factor to increase the thermal rms by to account for the effects of using weighting schemes differing from natural weighting).\n",
    "\n",
    "The user determines the size of the cube by providing the upper and lower boundaries. These are determined by the variables ``RAmin`` (minimum right ascension of cube in deg), ``RAmax`` (maximum right ascension of cube in deg), ``Demin`` (minimum declination of cube in deg), ``Demax`` (maximum declination of cube in deg), ``numin`` (minimum frequency of cube in Hz), ``numax`` (maximum frequency of cube in Hz). The voxel size is determined by the spatial voxel size ``cdeltxy`` (in deg) and the frequency voxel size ``cdeltnu`` in Hz.\n",
    "\n",
    "The positions of the pointings are provided in a list ``ras`` of right ascensions and a list ``decs`` of declinations, either as floats in units of deg or in hexagesimal units (provided as strings). Optionally, the user supplies names for the pointings in a list ``names`` of strings. \n",
    "\n",
    "Alternatively, the user can automatically generate a grid confined by a polygon, if she sets ``grid_from_polygon = True``\n",
    "The vertices are given by ``polypointsra`` and ``polypointsdec``, which are lists of numpy-readable angles (e.g. ``15.0``, ``'15deg'``, ``'1h00m00s'``, ``'15d00m00s'`` all for 15 deg). The regular polygonal grid, either 'hexagonal' or 'quadradic' (determined by parameter gridtype), has a separation of ``sep`` for the grid points (``sep`` in units of degrees), and is tilted by the angle tilt (in degrees). The lateral shift of the grid is determined by the position given by the pair ``startpoint``, and is by default the barycentre of the grid, if ``startpoint = None``. Startpoint should be chosen to lie inside the polygon. The parameter ``border`` (in degrees) determines a border of the grid towards the polygon. If ``border`` is positive, no grid point can have a distance lower than ``border`` towards the input polygon. If ``border`` is negative, grid points outside the polygon are allowed if their distance to a side of the polygon is less than the absolute value of ``border``. The pointings are automatically named ``prefix``-number using the parameter ``prefix`` as a prefix and increasing integers starting with 0[000...]. The minimum number of digits in the automated names can be provided by the parameter ``namedigits``.\n",
    "\n",
    "The parameter ``pbshape`` determines the shape of the primary beam ``'Tapered Cos Squared'`` or ``'Mauchian'`` (see Mauch, et al. 2020, ApJ, 888, 61) or ``Gaussian``. The script will first calculate a weight map (or rather a cube with frequency as the third axis), the inverse of the noise map in units of the inverse of ``rmsrel``. If ``rmsrel`` is chosen to be the rms at the centre of a single pointing (same as ``rmsbeam``), this shows hence the increase in signal-to-noise (sensitivity) relative to the signal-to-noise (sensitivity) at the centre of a single beam. The weight map (cube) can be returned as a fits data cube with the name specified in the parameter ``weightmapname``. Then the noise map, the inverse of the weight map (cube) in units of Jy is calculated, clipped at values above the ``clipper`` parameter. This map (cube), representing the expected rms across the field, can be saved as a fits file with the name ``rmsmapname``.\n",
    "\n",
    "In the following some statistics is carried out for pixel values in the noise cube below the clip value ``statmax`` and, if a polygon was specified, inside the polygon. If the latter statistics should not be carried out, ``polypointsra`` should be an empty list. A viewgraph is generated showing the area having an rms noise below a threshold ``rms_max``. This, togeter with the numbers is the important figure of merit, which shows you whether your mosaic is wisely chosen. Assuming your science requires an rms of xxx, then you can determine the area that you are covering at this rms and below from this viewgraph. The numbers calculated for the polygon can show you these quantities in your region of interest. The plot can be generated in the format of your choice (e.g. pdf) using the parameter ``rms_statistics_plot`` (e.g. ``rms_statistics_plot = 'rms_statistics.pdf'``).\n",
    "\n",
    "A map is presented showing the weights cube as a greyscale map with a minimum vmin and maximum vmax for the colour wedge and showing the rms as contours, the levels of which are provided by the user in the list ``rmscontours``. This is done for the channel ``mapchannel`` (index starting with 0) in the rms/weights cube. The plot can be generated in the format of your choice (e.g. pdf) using the parameter ``pointpos_plot`` (e.g. ``pointpos_plot = 'pointpos.pdf'``). If the polygon has been specified (and are not an empty list), the polygon is also overlaid on the mosaic.\n",
    "\n",
    "As a further step, the mosaic pointings are listed, and can be redirected into a csv file in a format accepted by the MeerKAT observing tool using the parameter ``pointpos_ascii`` (e.g. ``pointpos_ascii = 'pointpos.csv'``)\n",
    "\n",
    "Finally, a summary PDF file can be generated, containing all (printable) output produced by this notebook. The name of the summary file is specified in the parameter ``summary``, if an empty string '' is provided, no summary file will be generated. WARNING: if ``summary`` is not set to '', the files specified as ``rms_statistics_plot`` and ``pointpos_plot`` will automatically be generated, but with ``.png`` extension. Existing files will be overwritten. If ``summary`` is not '', the default file name for ``rms_statistics_plot`` is ``'rms_statistics_plot.png'`` and the default file name for ``pointpos_plot`` is ``'pointpos_plot.png'``. With the parameter ``summary_th`` the text size in the summary file is specified in pt, with the parameter ``summary_img_width`` the width of figures in the summary file is specified in mm (A4: 210)\n",
    "\n",
    "In the online version of the notebook only a printout or pdf copy of the complete notebook can be generated by using the Jupyter ``File`` button (see on top), and no other output (as specified using parameters ``weightmapname``, ``rmsmapnameapname``, ``rms_statistics_plot``, ``pointpos_plot``, ``pointpos_ascii``, and ``summary``) is accessible. The parameter ``online`` is a generic switch to suppress all output, which makes housekeeping more convenient for us. If set to ``True``, hardcopies of any output are suppressed. If set to ``False`` all output specified in the notebook will be generated. As said, this is useful (but then very much so) only when using a downloaded version of the notebook, run on your own machine. "
   ]
  },
  {
   "cell_type": "code",
   "execution_count": null,
   "metadata": {
    "code_folding": []
   },
   "outputs": [],
   "source": [
    "# This is the only cell required to be edited by the user\n",
    "# All other cells can just be run (they can of course be edited)\n",
    "# For queries contact GIGJ\n",
    "\n",
    "# Rms in a single pointing\n",
    "# rmssingle = 0.001     # peak rms for a single beam in Jy, this can also be a list with rmss per beam\n",
    "rmssingle = 'calculate' # Either a float providing the central rms in a single pointing or 'calculate'\n",
    "\n",
    "# Parameters to use for the automated calculation of the rms, ignore if rms_single is not 'calculate'\n",
    "t_int = 16               # Integration time in Hours\n",
    "Nant = 60                # Number of Antennas\n",
    "velocity_width = 5.513   # in km.s^1, 32k-mode: 5.513 km/s, 4k-mode: 44.108 km/s, n-mode:856000/n\n",
    "obs_freq =1.421e9        # Observation frequency in Hz\n",
    "f_tap = 1.               # The weighting factor. Choose 1. for natural weighting, 1.5 for Robust 0\n",
    "\n",
    "# Determine size of cube\n",
    "RAmin = 35.         # minimum right ascension of cube in deg\n",
    "RAmax = 40.         # maximum right ascension of cube in deg\n",
    "Demin = -16.        # minimum declination of cube in deg\n",
    "Demax = -13.        # maximum declination of cube in deg\n",
    "numin = 1300000000. # minimum frequency of cube in Hz\n",
    "numax = 1400000000. # maximum frequency of cube in Hz\n",
    "cdeltxy = 0.011     # spatial voxel size in deg\n",
    "cdeltnu = 10000000  # frequency voxel size in Hz\n",
    "\n",
    "# Information about pointings and rms, fits file names\n",
    "ras  = [ 37.,  38.,  37. ,  38. ,  37.,  38.] # Pointings (right ascension, list in deg or hexagesimal,\n",
    "                                              # e.g ['02h30m0s','02h45m0s'])\n",
    "decs = [-14., -14., -14.5, -14.5, -15., -15.] # Pointings (declination, list in deg or hexagesimal,\n",
    "                                              # e.g ['-15d00m0s','-17d30m0s'])\n",
    "names = ['a','b','c','d','e','f']             # Names of pointings, alternatively empty list for no names\n",
    "\n",
    "# Or use functionality to create a grid, notice that above values are overridden, polygon is also used\n",
    "# to calculate statisics\n",
    "grid_from_polygon = True                                # True for automatically calculating a pointing grid\n",
    "polypointsra =  [ 35.5, 38., 38., 39.5, 36.5]           # Corners of polygon delimiting grid\n",
    "                                                        # right ascension in astropy-readable units,\n",
    "                                                        # empty list [] if no polygon should be specified\n",
    "polypointsdec = ['-14d00m00s', -13.2, -14., -15., -15.] # Corners of polygon delimiting grid, declination\n",
    "                                                        # in astropy-readable units\n",
    "sep = 0.5                                               # Separation of grid points in degree\n",
    "border = 0.1                                            # Separation from polygon in degree, can also be negative\n",
    "tilt= 15.                                               # Rotation of grid points in degrees\n",
    "gridtype = 'hexagonal'                                  # Type of grid, 'quadratic' or 'hexagonal'\n",
    "startpoint = None                                       # Use None if you want to use the centroid of the polygon\n",
    "prefix = 'p'                                            # Name prefix for automated calculation of pointings\n",
    "namedigits = 2                                          # Number of digits for numbering automatedly calculated\n",
    "                                                        # pointings\n",
    "\n",
    "# Output: fits maps\n",
    "pbshape = 'Tapered Cos Squared' # Primary beam shape\n",
    "rmsrel = 'rmssingle'            # Either a float or 'rmssingle', if the latter, rmsbeam is used as a reference\n",
    "weightmapname = 'weights.fits'  # Name of output weights cube (FITS), use empty string if not wanted\n",
    "clipper = 0.01                  # Clip of noise map in Jy\n",
    "rmsmapname = 'rms.fits'         # Output FITSfile with rms, use empty string if not wanted\n",
    "\n",
    "# Output: plotting and statistics\n",
    "statmax = 0.00075                               # Generate statistics for voxels below this limit\n",
    "mapchannel = 9                                  # Channel to plot an also be provided as a frequency\n",
    "                                                # in astropy units\n",
    "vmin = 0.                                       # Plot lower limit for greyscale\n",
    "vmax = 1.5                                      # Plot upper limit for greyscale\n",
    "rmscontours = [0.00005, 0.0001, 0.0002, 0.0004] # contours to plot rms in mosaic\n",
    "rms_statistics_plot = 'rms_statistics.pdf'      # Statistics plot, set to '' if not required\n",
    "pointpos_plot = 'pointpos.png'                  # Plot of relative sensitivity, rms, and pointings\n",
    "pointpos_ascii = 'pointpos.csv'                 # csv file with pointing positions as used by the MeerKAT OPT\n",
    "summary = 'summary.pdf'                         # Summary file name, empty string '' if not required\n",
    "                                                # WARNING: if not set to '', rms_statistics_plot and \n",
    "                                                # pointpos_plot will automatically be generated, but with\n",
    "                                                # png extension. Existing files will be overwritten. If summary\n",
    "                                                # is not '', the default file for rms_statistics_plot that is \n",
    "                                                # is rms_statistics_plot.png' and the default file for \n",
    "                                                # pointpos_plot is 'pointpos_plot.png'.\n",
    "summary_th = 11                                 # Summary file text height in pt\n",
    "summary_img_width = 150                         # SWidth of images in summary file in mm (A4: 210)\n",
    "\n",
    "# Online switch, do not edit for the online version of the notebook\n",
    "online = True                                   # Set to true if this is the notebook is used online, False if\n",
    "                                                # a downloaded version is used"
   ]
  },
  {
   "cell_type": "code",
   "execution_count": null,
   "metadata": {
    "code_folding": []
   },
   "outputs": [],
   "source": [
    "# Optionally calculate rms of a single pointing, optionally automatically generate mosaic\n",
    "# Generate weight-, and rms-maps in fits format\n",
    "# Calculate statistics on the generated maps and plot them\n",
    "# according to specs above\n",
    "ras, decs, names, hdu, rms, outstring = msc.genmos(locals())"
   ]
  },
  {
   "cell_type": "code",
   "execution_count": null,
   "metadata": {
    "code_folding": []
   },
   "outputs": [],
   "source": [
    "# Plot a map with pointings, weight map as a greyscale map, rms as contours, and optionally polygon\n",
    "# according to specs above\n",
    "outstring = msc.pltmos(locals(), cmap = 'gray_r', fontsize = 10)"
   ]
  },
  {
   "cell_type": "code",
   "execution_count": null,
   "metadata": {
    "code_folding": []
   },
   "outputs": [],
   "source": [
    "# Print pointing positions\n",
    "pointstring  = msc.prtmospos(locals())"
   ]
  },
  {
   "cell_type": "code",
   "execution_count": null,
   "metadata": {},
   "outputs": [],
   "source": [
    "# Dump (relevant) input into string\n",
    "input_dump = msc.input_dump(locals())\n",
    " \n",
    "# Generate pdf summary\n",
    "msc.totsummary(locals())"
   ]
  },
  {
   "cell_type": "code",
   "execution_count": null,
   "metadata": {},
   "outputs": [],
   "source": []
  }
 ],
 "metadata": {
  "kernelspec": {
   "display_name": "Python 3",
   "language": "python",
   "name": "python3"
  },
  "language_info": {
   "codemirror_mode": {
    "name": "ipython",
    "version": 3
   },
   "file_extension": ".py",
   "mimetype": "text/x-python",
   "name": "python",
   "nbconvert_exporter": "python",
   "pygments_lexer": "ipython3",
   "version": "3.8.2"
  },
  "widgets": {
   "state": {},
   "version": "1.1.1"
  }
 },
 "nbformat": 4,
 "nbformat_minor": 1
}
