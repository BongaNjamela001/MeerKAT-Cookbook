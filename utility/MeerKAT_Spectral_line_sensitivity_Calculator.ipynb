{
 "cells": [
  {
   "cell_type": "markdown",
   "metadata": {},
   "source": [
    "# Spectral line sensitivity"
   ]
  },
  {
   "cell_type": "markdown",
   "metadata": {},
   "source": [
    "First, Tsys/eta as a function of frequency:"
   ]
  },
  {
   "cell_type": "code",
   "execution_count": 1,
   "metadata": {},
   "outputs": [
    {
     "name": "stdout",
     "output_type": "stream",
     "text": [
      "Populating the interactive namespace from numpy and matplotlib\n"
     ]
    },
    {
     "data": {
      "image/png": "[encoded data removed]",
      "text/plain": [
       "<Figure size 432x288 with 1 Axes>"
      ]
     },
     "metadata": {
      "needs_background": "light"
     },
     "output_type": "display_data"
    }
   ],
   "source": [
    "%pylab inline\n",
    "import numpy as np\n",
    "from astropy import constants\n",
    "\n",
    "# Fitted values from recent work.\n",
    "specs = np.array([[ 900.        ,   23.95144954],\n",
    "       [ 950.        ,   23.33837709],\n",
    "       [1000.        ,   23.10850831],\n",
    "       [1050.        ,   22.70384223],\n",
    "       [1100.        ,   21.93645197],\n",
    "       [1150.        ,   22.16621671],\n",
    "       [1200.        ,   21.52095707],\n",
    "       [1250.        ,   20.86545365],\n",
    "       [1300.        ,   20.20854385],\n",
    "       [1350.        ,   19.86267232],\n",
    "       [1400.        ,   19.73085187],\n",
    "       [1450.        ,   19.72759109],\n",
    "       [1500.        ,   19.79424543],\n",
    "       [1550.        ,   19.94109374],\n",
    "       [1600.        ,   20.23018655],\n",
    "       [1650.        ,   20.86337011]])\n",
    "plt.plot(specs[:,0],specs[:,1])\n",
    "plt.title('Measured MeerKAT Specs')\n",
    "plt.ylabel('$T_\\mathrm{sys}/\\eta$ [K]')\n",
    "i=plt.xlabel('Frequency [MHz]')"
   ]
  },
  {
   "cell_type": "code",
   "execution_count": 2,
   "metadata": {},
   "outputs": [
    {
     "name": "stdout",
     "output_type": "stream",
     "text": [
      "4k mode channel width : 44.108481 km/s \n",
      "208984.375\n"
     ]
    }
   ],
   "source": [
    "J = 1e26                                   # Jy to Watts conversion factor\n",
    "f = specs[:,0]*1e6                         # frequency axis above in Hz\n",
    "lam = constants.c.value/f                  # corresponding wavelengths in m\n",
    "f_HI = 1420405751.7667                     # HI rest frequency in Hz\n",
    "Df = 8.56E8/4096                           # Channel width 4k mode in Hz (Bandwidth divided by channels)     \n",
    "print('4k mode channel width : {0:f} km/s '.format(Df*constants.c.value/f_HI/1000.))\n",
    "print(Df)"
   ]
  },
  {
   "cell_type": "markdown",
   "metadata": {
    "collapsed": true
   },
   "source": [
    "For reference, the calculations that went into this are:\n",
    "\n",
    "\\begin{align*}\n",
    "\\frac{\\Delta\\nu}{\\Delta V } = \\frac{\\nu_\\mathrm{H I}}{c} \n",
    "\\end{align*}\n",
    "\n",
    "$\\nu_\\mathrm{H I} = 1420405751.7667 \\,\\mathrm{Hz}$: H I-rest-frequency\n",
    "\n",
    "$c = 2.99792456\\cdot 10^5\\, \\mathrm{km}\\,\\mathrm{s}^{-1}$: Speed of light\n",
    "\n",
    "$\\Delta \\nu$: Difference between observed and rest frequency\n",
    "\n",
    "$\\Delta V$: Difference in recession velocity (between two adcacent channels)\n",
    "\n",
    "We obtain (for a bandwidth of 856 MHz and 4096 channels):\n",
    "\\begin{align*}\n",
    "\\Delta V = 44.108\\, \\mathrm{km}\\,\\mathrm{s}^{-1}\n",
    "\\end{align*}\n",
    "\\begin{align*}\n",
    "\\Delta\\nu = 208984 \\,\\mathrm{Hz}\n",
    "\\end{align*}\n",
    "\n",
    "The thermal 5-sigma rms intensity-sensitivity $\\sigma_\\mathrm{S}$ of a (naturally-weighted) image is found using \n",
    "\\begin{align*}5\\sigma_\\mathrm{S} = 5 \\frac{2 k_\\mathrm{B} T_\\mathrm{sys}}{A_\\mathrm{eff} [2N(N-1)\\Delta \\nu_\\mathrm{ RF}\\tau]^{1/2}}\n",
    "\\end{align*}\n",
    "\n",
    "$k_\\mathrm{B}$: Boltzmann-constant\n",
    "\n",
    "$T_\\mathrm{sys}$: System temperature\n",
    "\n",
    "$A_\\mathrm{eff}$: Effective Aperture (of an antenna)\n",
    "\n",
    "$N$: Number of antennas\n",
    "\n",
    "$\\Delta \\nu_\\mathrm{RF}$: Frequency interval (e.g. channel width)\n",
    "\n",
    "$\\tau$: Integration time\n",
    "\n",
    "The equations are from http://www.atnf.csiro.au/people/Tobias.Westmeier/tools_hihelpers.php, or https://ui.adsabs.harvard.edu/abs/2013tra..book.....W/abstract, respectively. Any flux density $S$/intensity (and with that the rms in intensity) can be converted to a column-density sensitivity using:\n",
    "\n",
    "\\begin{align*}\n",
    " T_\\mathrm{B} = \\frac{606 \\, S}{\\vartheta^{2}}\n",
    "\\end{align*}\n",
    "In this equation, the *HPBW* $\\vartheta$ of the synthesized beam is measured in arcseconds, and the flux density $S$ is measured in mJy, to calculate the brightness temperature $T_\\mathrm{B}$. We can then calculate the HI-column density $N_\\mathrm{H I}$ by integrating over the H I linewidth (measured in $\\mathrm{km}\\,\\mathrm{s}^{-1}$):\n",
    "\\begin{align*}\n",
    "N_{\\rm H\\,I} = 1.823 \\times 10^{18} \\! \\int \\! T_{\\rm B} \\, \\mathrm{d}V          \n",
    " \\end{align*}         \n",
    "Notice that if this is used to calculate the HI column-density sensitivity it is typically wrong to use the channel width in this calculation, unless it is fairly large. Using the channel width one makes the assumption that all HI can be observed within one channel. This is likely correct for 4096 channels, but not any more for 32768 channels. When guessing, the usual assumption is that the HI has a total line width of $16-20\\,\\mathrm{km}\\,\\mathrm{s}^{-1}$.\n"
   ]
  },
  {
   "cell_type": "code",
   "execution_count": 9,
   "metadata": {},
   "outputs": [],
   "source": [
    "# Parameters to adjust for the observation \n",
    "F_tap = 1.6          # The Robust/tapering factor.\n",
    "theta = 60.          # The synthesized beam HPBW in arcseconds  \n",
    "N_hi = 1e19          # Target HI column Density in cm^{-2}\n",
    "SN = 5               # Signal to Noise for detection\n",
    "hours = 16           # Integration time in hours\n",
    "N = 58               # Number of Antennas\n",
    "velocity_width = 20. # in km/s\n",
    "obs_freq =1.421e9    # Observation frequency in Hz"
   ]
  },
  {
   "cell_type": "markdown",
   "metadata": {},
   "source": [
    "Use the cell below to compute the flux of a spectral feature:"
   ]
  },
  {
   "cell_type": "code",
   "execution_count": 10,
   "metadata": {},
   "outputs": [
    {
     "name": "stdout",
     "output_type": "stream",
     "text": [
      "Flux of a column density:\n",
      "N_hi = 1e+19 at 60.0 arc-seconds  with a velocity width of 20 km/s, has a flux of 1.629 mJy. \n",
      "To detect this at a 5-sigma level (taper factor of 1.6),\n",
      "we would need an image with a natural rms of 0.2037 mJy\n"
     ]
    }
   ],
   "source": [
    "print('Flux of a column density:')\n",
    "delta_v = velocity_width \n",
    "col_flux = N_hi*theta**2/(1.823e18*606.*delta_v)\n",
    "string1 = \"N_hi = {0:2.4g} at {1} arc-seconds  with a velocity width of {2:2.4g} km/s, has a flux of {3:2.4g} mJy. \"\n",
    "string2 = \"To detect this at a {1:.0f}-sigma level (taper factor of {2:2.2g}),\\nwe would need an image with a natural rms of {3:2.4g} mJy\"\n",
    "print(string1.format(N_hi,theta,velocity_width,col_flux))\n",
    "print(string2.format(N_hi,SN,F_tap,col_flux/(F_tap*SN)))"
   ]
  },
  {
   "cell_type": "markdown",
   "metadata": {},
   "source": [
    "Use the cell below to compute the image rms (single-channel), and resulting detection level:"
   ]
  },
  {
   "cell_type": "code",
   "execution_count": 8,
   "metadata": {},
   "outputs": [
    {
     "name": "stdout",
     "output_type": "stream",
     "text": [
      "T_sys/eta at 1421 MHz is 19.7K\n",
      "Flux/rms calculated from the observing time: \n",
      "Natural rms noise after 16.0h on-source is 0.04372 mJy\n",
      "With a taper factor of 1.6, this becomes 0.06996 mJy\n",
      "The 5-sigma detection level is then 0.3498 mJy\n"
     ]
    }
   ],
   "source": [
    "sigma = SN \n",
    "D = 13.5             # Meters\n",
    "f_HI = 1420405751.7667 # Hz\n",
    "NPol = 2\n",
    "A = np.pi * (D/2)**2\n",
    "Tsys_eta = specs[:,1]\n",
    "bw = f_HI/constants.c.value*velocity_width*1000.    \n",
    "tau = 3600 * hours\n",
    "Tsys_per_eta = Tsys_eta[np.argmin(np.abs(f - obs_freq))]\n",
    "print (\"T_sys/eta at %3.0f MHz is %2.1fK\"%(obs_freq/1e6,Tsys_per_eta) )\n",
    "print(\"Flux/rms calculated from the observing time: \")\n",
    "noise = 2 * constants.k_B.value * Tsys_per_eta / (A * np.sqrt(N * (N-1) * bw * tau)) * J / np.sqrt(NPol) \n",
    "#rms_L =  2 * k * Tsys_eta_L / (A * sqrt(N * (N-1) * bw_L * tau)) * J / sqrt(NPol)\n",
    "print(\"Natural rms noise after {:.1f}h on-source is {:2.4g} mJy\".format(hours, noise*1e3)) \n",
    "print(\"With a taper factor of {:.1f}, this becomes {:2.4g} mJy\".format(F_tap, F_tap*noise*1e3)) \n",
    "print(\"The {:.0f}-sigma detection level is then {:2.4g} mJy\".format(sigma, sigma*F_tap*noise*1e3))"
   ]
  },
  {
   "cell_type": "code",
   "execution_count": null,
   "metadata": {},
   "outputs": [],
   "source": []
  }
 ],
 "metadata": {
  "kernelspec": {
   "display_name": "Python 3",
   "language": "python",
   "name": "python3"
  },
  "language_info": {
   "codemirror_mode": {
    "name": "ipython",
    "version": 3
   },
   "file_extension": ".py",
   "mimetype": "text/x-python",
   "name": "python",
   "nbconvert_exporter": "python",
   "pygments_lexer": "ipython3",
   "version": "3.8.2"
  },
  "widgets": {
   "state": {},
   "version": "1.1.1"
  }
 },
 "nbformat": 4,
 "nbformat_minor": 1
}
