{
 "cells": [
  {
   "cell_type": "code",
   "execution_count": null,
   "metadata": {
    "autoscroll": false,
    "ein.hycell": false,
    "ein.tags": "worksheet-0",
    "slideshow": {
     "slide_type": "-"
    }
   },
   "outputs": [],
   "source": [
    "import numpy as np\n",
    "import katpoint\n",
    "import matplotlib\n",
    "import pylab as pl\n",
    "from datetime import timedelta\n",
    "%pylab inline"
   ]
  },
  {
   "cell_type": "markdown",
   "metadata": {
    "ein.tags": "worksheet-0",
    "slideshow": {
     "slide_type": "-"
    }
   },
   "source": [
    "This notebook calculates the UV coverage for a given source and\n",
    "observation duration on the MeerKAT telescope.\n",
    "\n",
    "If the target source is not up the notebook will produce a\n",
    "NeverUpError with information about the 'Simulated_Target' transiting\n",
    "below the horizon.\n",
    "\n",
    "There are 3 variables that can be changed in the cell below.\n",
    "1. Target_RA,Target_Dec\n",
    "2. Observation_Duration\n",
    "3. Horizon"
   ]
  },
  {
   "cell_type": "code",
   "execution_count": null,
   "metadata": {
    "autoscroll": false,
    "ein.hycell": false,
    "ein.tags": "worksheet-0",
    "slideshow": {
     "slide_type": "-"
    }
   },
   "outputs": [],
   "source": [
    "######################################################################\n",
    "#                          User input                                #\n",
    "######################################################################\n",
    "\n",
    "# The target coordinates\n",
    "Target_RA,Target_Dec = \"11:50:17.7\", \"-30:10:56.9\"\n",
    "\n",
    "# The observation duration in decimal hours.\n",
    "# Setting it to None simulates the uv track of the source from horizon to horizon. (24 hours for circumpolar coordinates.)\n",
    "# e.g. Observation_Duration = None\n",
    "Observation_Duration = 10.0\n",
    "\n",
    "# The horizon limit can be in units of degrees or radians if specifed\n",
    "# as an int or float respectivey. Observing below 20 degrees is\n",
    "# discouraged with MeerKAT.\n",
    "Horizon = \"20\""
   ]
  },
  {
   "cell_type": "code",
   "execution_count": null,
   "metadata": {
    "autoscroll": false,
    "ein.hycell": false,
    "ein.tags": "worksheet-0",
    "slideshow": {
     "slide_type": "-"
    }
   },
   "outputs": [],
   "source": [
    "ant1 = katpoint.Antenna('ant1, -30:42:39.8, 21:26:38.0, 1086.6')\n",
    "ant1.ref_observer.horizon = str(Horizon)\n",
    "target = katpoint.Target('Simulated_Target, radec target, %s, %s'%(Target_RA, Target_Dec))\n",
    "\n",
    "# How long is the source above the Horizon?\n",
    "start_timestamp = katpoint.Timestamp()\n",
    "start_ed = start_timestamp.to_ephem_date()\n",
    "target.body.compute(ant1.ref_observer)\n",
    "\n",
    "mid = ant1.ref_observer.next_transit(target.body, start=start_ed).datetime()\n",
    "\n",
    "if target.body.circumpolar :\n",
    "    if Observation_Duration is None :\n",
    "        Observation_Duration = 24.\n",
    "    print (\"The source is circumpolar\")\n",
    "    time1 = mid - timedelta(hours= Observation_Duration/2)\n",
    "    time2 = mid + timedelta(hours= Observation_Duration/2)\n",
    "else :\n",
    "    time1_tmp = ant1.ref_observer.next_rising(target.body, start=start_ed).datetime() # Rising\n",
    "    time2_tmp = ant1.ref_observer.next_setting(target.body, start=time1_tmp).datetime() # Setting after next Rise\n",
    "    delta = time2_tmp-time1_tmp\n",
    "\n",
    "    if Observation_Duration is not None and delta.total_seconds()/3600. < Observation_Duration :\n",
    "        print(\"Target source not above horizon for Observation_Duration = %.2f Hours\"%Observation_Duration)\n",
    "        print(\"Target is above horizon for %.2f hours\"%(delta.total_seconds()/3600.))\n",
    "        print(\"Using Observation_Duration = %.2f hours instead.\\n\"%(delta.total_seconds()/3600.))\n",
    "        Observation_Duration = None # Go from horizon to Horizon\n",
    "\n",
    "    if Observation_Duration is None :\n",
    "        time1 = time1_tmp\n",
    "        time2 = time2_tmp\n",
    "    else :\n",
    "        time1 = mid - timedelta(hours=Observation_Duration/2)\n",
    "        time2 = mid + timedelta(hours=Observation_Duration/2)\n",
    "\n",
    "delta=time2-time1\n",
    "upt2=delta.total_seconds()/3600\n",
    "\n",
    "print(\"Simulation start: %s \" %(time1.strftime(\"%d/%m/%Y, %H:%M:%S\")))\n",
    "print(\" Simulation stop: %s \" %(time2.strftime(\"%d/%m/%Y, %H:%M:%S\")))\n",
    "print(\"          Uptime: %.2f hours\"% (upt2))"
   ]
  },
  {
   "cell_type": "code",
   "execution_count": null,
   "metadata": {
    "autoscroll": false,
    "ein.hycell": false,
    "ein.tags": "worksheet-0",
    "slideshow": {
     "slide_type": "-"
    }
   },
   "outputs": [],
   "source": [
    "ants=['' for x in range(64)]\n",
    "ants[0]=katpoint.Antenna('m000, -30:42:39.8, 21:26:38.0, 1086.6, 13.5, -8.264   -207.290 8.597')\n",
    "ants[1]=katpoint.Antenna('m001, -30:42:39.8, 21:26:38.0, 1086.6, 13.5, 1.121 -171.762  8.471')\n",
    "ants[2]=katpoint.Antenna('m002, -30:42:39.8, 21:26:38.0, 1086.6, 13.5, -32.113  -224.236  8.645')\n",
    "ants[3]=katpoint.Antenna('m003, -30:42:39.8, 21:26:38.0, 1086.6, 13.5, -66.518  -202.276  8.285')\n",
    "ants[4]=katpoint.Antenna('m004, -30:42:39.8, 21:26:38.0, 1086.6, 13.5, -123.624  -252.946  8.513')\n",
    "ants[5]=katpoint.Antenna('m005, -30:42:39.8, 21:26:38.0, 1086.6, 13.5, -102.088  -283.120  8.875')\n",
    "ants[6]=katpoint.Antenna('m006, -30:42:39.8, 21:26:38.0, 1086.6, 13.5, -18.232  -295.428  9.188')\n",
    "ants[7]=katpoint.Antenna('m007, -30:42:39.8, 21:26:38.0, 1086.6, 13.5, -89.592  -402.732  9.769')\n",
    "ants[8]=katpoint.Antenna('m008, -30:42:39.8, 21:26:38.0, 1086.6, 13.5, -93.527  -535.026  10.445')\n",
    "ants[9]=katpoint.Antenna('m009, -30:42:39.8, 21:26:38.0, 1086.6, 13.5, 32.357   -371.056  10.140')\n",
    "#\n",
    "ants[10]=katpoint.Antenna('m010, -30:42:39.8, 21:26:38.0, 1086.6, 13.5, 88.095    -511.872  11.186')\n",
    "ants[11]=katpoint.Antenna('m011, -30:42:39.8, 21:26:38.0, 1086.6, 13.5, 84.012 -352.078 10.151')\n",
    "ants[12]=katpoint.Antenna('m012, -30:42:39.8, 21:26:38.0, 1086.6, 13.5, 140.019  -368.267  10.449')\n",
    "ants[13]=katpoint.Antenna('m013, -30:42:39.8, 21:26:38.0, 1086.6, 13.5, 236.792  -393.460  11.124')\n",
    "ants[14]=katpoint.Antenna('m014, -30:42:39.8, 21:26:38.0, 1086.6, 13.5, 280.669  -285.792  10.547')\n",
    "ants[15]=katpoint.Antenna('m015, -30:42:39.8, 21:26:38.0, 1086.6, 13.5, 210.644 -219.142  9.738')\n",
    "ants[16]=katpoint.Antenna('m016, -30:42:39.8, 21:26:38.0, 1086.6, 13.5, 288.159  -185.873  9.795')\n",
    "ants[17]=katpoint.Antenna('m017, -30:42:39.8, 21:26:38.0, 1086.6, 13.5, 199.624  -112.263  8.955')\n",
    "ants[18]=katpoint.Antenna('m018, -30:42:39.8, 21:26:38.0, 1086.6, 13.5, 105.727  -245.870  9.529')\n",
    "ants[19]=katpoint.Antenna('m019, -30:42:39.8, 21:26:38.0, 1086.6, 13.5, 170.787  -285.223  10.071')\n",
    "#\n",
    "ants[20]=katpoint.Antenna('m020, -30:42:39.8, 21:26:38.0, 1086.6, 13.5, 97.016  -299.638  9.877')\n",
    "ants[21]=katpoint.Antenna('m021, -30:42:39.8, 21:26:38.0, 1086.6, 13.5, -295.966  -327.241  8.117')\n",
    "ants[22]=katpoint.Antenna('m022, -30:42:39.8, 21:26:38.0, 1086.6, 13.5, -373.002  0.544 5.649')\n",
    "ants[23]=katpoint.Antenna('m023, -30:42:39.8, 21:26:38.0, 1086.6, 13.5, -322.306  -142.185  6.825')\n",
    "ants[24]=katpoint.Antenna('m024, -30:42:39.8, 21:26:38.0, 1086.6, 13.5, -351.046  150.088 4.845')\n",
    "ants[25]=katpoint.Antenna('m025, -30:42:39.8, 21:26:38.0, 1086.6, 13.5, -181.978 225.617 5.068')\n",
    "ants[26]=katpoint.Antenna('m026, -30:42:39.8, 21:26:38.0, 1086.6, 13.5, -99.004  17.045  6.811')\n",
    "ants[27]=katpoint.Antenna('m027, -30:42:39.8, 21:26:38.0, 1086.6, 13.5,  40.475   -23.112 7.694')\n",
    "ants[28]=katpoint.Antenna('m028, -30:42:39.8, 21:26:38.0, 1086.6, 13.5, -51.179  -87.170 7.636')\n",
    "ants[29]=katpoint.Antenna('m029, -30:42:39.8, 21:26:38.0, 1086.6, 13.5, -88.762  -124.111  7.700')\n",
    "#\n",
    "ants[30]=katpoint.Antenna('m030, -30:42:39.8, 21:26:38.0, 1086.6, 13.5, 171.281  113.949 7.278')\n",
    "ants[31]=katpoint.Antenna('m031, -30:42:39.8, 21:26:38.0, 1086.6, 13.5, 246.567  93.756  7.469')\n",
    "ants[32]=katpoint.Antenna('m032, -30:42:39.8, 21:26:38.0, 1086.6, 13.5, 461.275 175.505 7.367')\n",
    "ants[33]=katpoint.Antenna('m033, -30:42:39.8, 21:26:38.0, 1086.6, 13.5, 580.678  863.959 3.600')\n",
    "ants[34]=katpoint.Antenna('m034, -30:42:39.8, 21:26:38.0, 1086.6, 13.5,  357.811  -28.308 8.972')\n",
    "ants[35]=katpoint.Antenna('m035, -30:42:39.8, 21:26:38.0, 1086.6, 13.5,  386.152  -180.894  10.290')\n",
    "ants[36]=katpoint.Antenna('m036, -30:42:39.8, 21:26:38.0, 1086.6, 13.5,   388.257  -290.759  10.812')\n",
    "ants[37]=katpoint.Antenna('m037, -30:42:39.8, 21:26:38.0, 1086.6, 13.5,   380.286  -459.309  12.172')\n",
    "ants[38]=katpoint.Antenna('m038, -30:42:39.8, 21:26:38.0, 1086.6, 13.5,  213.308  -569.080  11.946')\n",
    "ants[39]=katpoint.Antenna('m039, -30:42:39.8, 21:26:38.0, 1086.6, 13.5,  253.748  -592.147  12.441')\n",
    "#\n",
    "ants[40]=katpoint.Antenna('m040, -30:42:39.8, 21:26:38.0, 1086.6, 13.5,  -26.858  -712.219  11.833')\n",
    "ants[41]=katpoint.Antenna('m041, -30:42:39.8, 21:26:38.0, 1086.6, 13.5,  -287.545  -661.678  9.949')\n",
    "ants[42]=katpoint.Antenna('m042, -30:42:39.8, 21:26:38.0, 1086.6, 13.5,  -361.714  -460.318  8.497')\n",
    "ants[43]=katpoint.Antenna('m043, -30:42:39.8, 21:26:38.0, 1086.6, 13.5,  -629.853  -128.326  5.264')\n",
    "ants[44]=katpoint.Antenna('m044, -30:42:39.8, 21:26:38.0, 1086.6, 13.5,  -896.164  600.497 -0.640')\n",
    "ants[45]=katpoint.Antenna('m045, -30:42:39.8, 21:26:38.0, 1086.6, 13.5,  -1832.860  266.750 0.108')\n",
    "ants[46]=katpoint.Antenna('m046, -30:42:39.8, 21:26:38.0, 1086.6, 13.5,  -1467.341  1751.923  -7.078')\n",
    "ants[47]=katpoint.Antenna('m047, -30:42:39.8, 21:26:38.0, 1086.6, 13.5,  -578.296  -517.297  7.615')\n",
    "ants[48]=katpoint.Antenna('m048, -30:42:39.8, 21:26:38.0, 1086.6, 13.5,  -2805.653  2686.863  -9.755')\n",
    "ants[49]=katpoint.Antenna('m049, -30:42:39.8, 21:26:38.0, 1086.6, 13.5,  -3605.957  436.462 2.696')\n",
    "#\n",
    "ants[50]=katpoint.Antenna('m050, -30:42:39.8, 21:26:38.0, 1086.6, 13.5,  -2052.336  -843.715  5.338')\n",
    "ants[51]=katpoint.Antenna('m051, -30:42:39.8, 21:26:38.0, 1086.6, 13.5,  -850.255  -769.359  7.614')\n",
    "ants[52]=katpoint.Antenna('m052, -30:42:39.8, 21:26:38.0, 1086.6, 13.5,  -593.192  -1148.652 10.550')\n",
    "ants[53]=katpoint.Antenna('m053, -30:42:39.8, 21:26:38.0, 1086.6, 13.5,  9.365  -1304.462 15.032')\n",
    "ants[54]=katpoint.Antenna('m054, -30:42:39.8, 21:26:38.0, 1086.6, 13.5,  871.980  -499.812  13.364')\n",
    "ants[55]=katpoint.Antenna('m055, -30:42:39.8, 21:26:38.0, 1086.6, 13.5,  1201.780 96.492  10.023')\n",
    "ants[56]=katpoint.Antenna('m056, -30:42:39.8, 21:26:38.0, 1086.6, 13.5,  1598.403  466.668 6.990')\n",
    "ants[57]=katpoint.Antenna('m057, -30:42:39.8, 21:26:38.0, 1086.6, 13.5,  294.645  3259.915  -10.637')\n",
    "ants[58]=katpoint.Antenna('m058, -30:42:39.8, 21:26:38.0, 1086.6, 13.5,  2805.764  2686.873  -3.660')\n",
    "ants[59]=katpoint.Antenna('m059, -30:42:39.8, 21:26:38.0, 1086.6, 13.5,  3686.427  758.895 11.822')\n",
    "#\n",
    "ants[60]=katpoint.Antenna('m060, -30:42:39.8, 21:26:38.0, 1086.6, 13.5,  3419.683 -1840.478 23.697')\n",
    "ants[61]=katpoint.Antenna('m061, -30:42:39.8, 21:26:38.0, 1086.6, 13.5,  -16.409 -2323.779 21.304')\n",
    "ants[62]=katpoint.Antenna('m062, -30:42:39.8, 21:26:38.0, 1086.6, 13.5,  -1440.632 -2503.773  21.683')\n",
    "ants[63]=katpoint.Antenna('m063, -30:42:39.8, 21:26:38.0, 1086.6, 13.5,  -3419.585 -1840.480 16.383')"
   ]
  },
  {
   "cell_type": "code",
   "execution_count": null,
   "metadata": {
    "autoscroll": false,
    "ein.hycell": false,
    "ein.tags": "worksheet-0",
    "slideshow": {
     "slide_type": "-"
    }
   },
   "outputs": [],
   "source": [
    "def get_uvw(target,ants,timevalues):\n",
    "    # Set up empty uvw then loop through the half the antennas (n,m)\n",
    "    # and calculate u,v,w for the target and antennas n and m\n",
    "    u,v,w=[],[],[]\n",
    "    for n in range(np.shape(ants)[0]-1):\n",
    "        for m in range(n+1,np.shape(ants)[0]):\n",
    "            u_new,v_new,w_new=target.uvw(ants[n], timevalues ,ants[m])\n",
    "            u.extend(u_new)\n",
    "            v.extend(v_new)\n",
    "            w.extend(w_new)\n",
    "    return np.array(u),np.array(v),np.array(w)\n",
    "\n",
    "# Define a time range \"t\" we want to step through\n",
    "t = start_timestamp.secs + np.linspace(0.0, upt2 * 60. * 60., 360) # 360 is once every 2 min\n",
    "start_timestamp = katpoint.Timestamp(str(time1)) # use a specific time as the start time (in UTC ... )\n",
    "print (\"Simulation start time %s\"%(start_timestamp))\n",
    "u,v,w = get_uvw(target, ants, t)"
   ]
  },
  {
   "cell_type": "code",
   "execution_count": null,
   "metadata": {
    "autoscroll": false,
    "ein.hycell": false,
    "ein.tags": "worksheet-0",
    "slideshow": {
     "slide_type": "-"
    }
   },
   "outputs": [],
   "source": [
    "pl.figure(figsize=(10,10))\n",
    "pl.plot(u,v,'ko',markersize=0.15)\n",
    "pl.plot(-u,-v,'ko',markersize=0.15) # mirrored half\n",
    "pl.title('UV coverage for ra=%s dec=%s  with a horizon of %s degrees'%(target.radec()[0], target.radec()[1], Horizon))\n",
    "pl.xlim(-8000,8000)\n",
    "pl.ylim(-8000,8000)\n",
    "# pl.axes().set_aspect('equal')\n",
    "pl.xlabel('u in metres')\n",
    "pl.ylabel('v in metres')\n",
    "pl.grid()\n",
    "# pl.savefig('meerkat-uv.png',dpi= 600,quality= 95, optimize= True)"
   ]
  }
 ],
 "metadata": {
  "kernelspec": {
   "display_name": "Python 3",
   "language": "python",
   "name": "python3"
  },
  "language_info": {
   "codemirror_mode": {
    "name": "ipython",
    "version": 3
   },
   "file_extension": ".py",
   "mimetype": "text/x-python",
   "name": "python",
   "nbconvert_exporter": "python",
   "pygments_lexer": "ipython3",
   "version": "3.6.7"
  },
  "name": "MeerKAT_uv_simulator.ipynb"
 },
 "nbformat": 4,
 "nbformat_minor": 2
}
